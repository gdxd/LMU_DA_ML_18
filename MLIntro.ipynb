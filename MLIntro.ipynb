{
 "cells": [
  {
   "cell_type": "markdown",
   "metadata": {
    "toc": true
   },
   "source": [
    "<h1>Table of Contents<span class=\"tocSkip\"></span></h1>\n",
    "<div class=\"toc\"><ul class=\"toc-item\"><li><span><a href=\"#Machine-Learning-Introduction\" data-toc-modified-id=\"Machine-Learning-Introduction-1\"><span class=\"toc-item-num\">1&nbsp;&nbsp;</span>Machine Learning Introduction</a></span><ul class=\"toc-item\"><li><span><a href=\"#What-is-Data-Science-and-Machine-Learning?\" data-toc-modified-id=\"What-is-Data-Science-and-Machine-Learning?-1.1\"><span class=\"toc-item-num\">1.1&nbsp;&nbsp;</span>What is Data Science and Machine Learning?</a></span></li><li><span><a href=\"#Machine-learning---Basic-procedure\" data-toc-modified-id=\"Machine-learning---Basic-procedure-1.2\"><span class=\"toc-item-num\">1.2&nbsp;&nbsp;</span>Machine learning - Basic procedure</a></span></li><li><span><a href=\"#Several-sub-categories-for-Machine-Learning\" data-toc-modified-id=\"Several-sub-categories-for-Machine-Learning-1.3\"><span class=\"toc-item-num\">1.3&nbsp;&nbsp;</span>Several sub-categories for Machine Learning</a></span></li><li><span><a href=\"#Machine-learning-versus-Classical-Statistics\" data-toc-modified-id=\"Machine-learning-versus-Classical-Statistics-1.4\"><span class=\"toc-item-num\">1.4&nbsp;&nbsp;</span>Machine learning versus Classical Statistics</a></span></li></ul></li></ul></div>"
   ]
  },
  {
   "cell_type": "markdown",
   "metadata": {},
   "source": [
    "# Machine Learning Introduction\n",
    "Machine Learning (ML) has become a very popular area in computing in recent years. \n",
    "\n",
    "ML is applied on wide range of problem fields: \n",
    "  * Image/object recognition\n",
    "    * and audio ... Siri & Alexa\n",
    "  * problem detection\n",
    "  * Games\n",
    "    * AlphaGO\n",
    "  * Autonomous driving, robots\n",
    "  * Regression  and Optimization\n",
    "  * ...\n",
    "\n",
    "In some cases spectacular results had been achieved (Google image recognition, AlphaGO, ...). ML application are basically found in all domains.\n",
    "\n",
    "Very popular also for commercial applications and industry  \n",
    "&rarr; Huge demand for **Data Scientists** \n"
   ]
  },
  {
   "cell_type": "markdown",
   "metadata": {
    "collapsed": true
   },
   "source": [
    "## What is Data Science and Machine Learning?\n",
    "\n",
    "Terms are not very precisely defined and used for wide area of applications and problem fields.\n",
    "\n",
    "One standard way to illustrate is the diagram below from D. Conway:"
   ]
  },
  {
   "cell_type": "markdown",
   "metadata": {},
   "source": [
    "![Data Science Venn Diagram](figures/Data_Science_VD.png)\n",
    "\n",
    "<small>(Source: [Drew Conway](http://drewconway.com/zia/2013/3/26/the-data-science-venn-diagram).)</small>\n",
    "\n",
    "\n",
    "I.e. it is cross-disciplinary, requiring different skills and knowledge"
   ]
  },
  {
   "cell_type": "markdown",
   "metadata": {},
   "source": [
    "## Machine learning - Basic procedure\n",
    "\n",
    "\n",
    "![ML Diagram](figures/ML_principle.png)"
   ]
  },
  {
   "cell_type": "markdown",
   "metadata": {},
   "source": [
    "## Several sub-categories for Machine Learning\n",
    "\n",
    "* **Supervised learning**: Usually have a *reference dataset* with known outcome which is used for *training* and *validation*.\n",
    "  Two sub-classes:\n",
    "  * Classification: Outcome is classified into discrete categories, 2 or more\n",
    "    * character recognition, image classification (cat pics...), SPAM rejection\n",
    "  * Regression: continuous output variable\n",
    "    * calibration, price prediction, ...\n",
    "* **Unsupervised learning**: No training data\n",
    "  * Clustering: look at data features and try to identify clusters\n",
    "    * popularity of hash-tags on Twitter or news topics in online media\n",
    "  * ...\n",
    "* **Reinforcement learning**\n",
    "  * look at past experience, try to learn from it and improve\n",
    "    * Nice [example with robot](https://www.youtube.com/watch?v=W_gxLKSsSIE)\n",
    "* ...\n",
    "    \n",
    "***\n",
    "Our main focus for the course will be **supervised learning**, this is most frequent use case in scientific domain. But we will also briefly discuss **unsupervised learning** .\n",
    "\n",
    "\n"
   ]
  },
  {
   "cell_type": "markdown",
   "metadata": {},
   "source": [
    "## Machine learning versus Classical Statistics\n",
    "\n",
    "Not a well-defined separation, classification methods such as Neural Networks are used in statistics since decades. \n",
    "\n",
    "However, one clear distinction should be made:  \n",
    "In science one often has a well-defined theoretical model which makes predictions for experimental observables. \n",
    "One can then apply statistical methods to either test the theoretical model or determine/constrain parameters of the model.\n",
    "* cf SciPy examples on exponential decay OR Z0 resonance cross-section: \n",
    "  * Fit experimental measurements to theoretical model and determine parameters. \n",
    "  * These fit parameters have fundamental scientific content and are the main result of the measurement.\n",
    "    * Together with parameter uncertainties and correlations, which are of equal importance\n",
    "\n",
    "***\n",
    "In contrast, for machine learning one is usually only interested in the performance of the model in terms of predicting the correct outcome.  \n",
    "\n",
    "The details of the respective model, the internal parameters, are usually not of any interest.\n"
   ]
  },
  {
   "cell_type": "code",
   "execution_count": null,
   "metadata": {
    "collapsed": true
   },
   "outputs": [],
   "source": []
  }
 ],
 "metadata": {
  "anaconda-cloud": {},
  "kernelspec": {
   "display_name": "Python [Root]",
   "language": "python",
   "name": "Python [Root]"
  },
  "language_info": {
   "codemirror_mode": {
    "name": "ipython",
    "version": 3
   },
   "file_extension": ".py",
   "mimetype": "text/x-python",
   "name": "python",
   "nbconvert_exporter": "python",
   "pygments_lexer": "ipython3",
   "version": "3.5.5"
  },
  "toc": {
   "nav_menu": {},
   "number_sections": true,
   "sideBar": true,
   "skip_h1_title": false,
   "title_cell": "Table of Contents",
   "title_sidebar": "Contents",
   "toc_cell": true,
   "toc_position": {},
   "toc_section_display": true,
   "toc_window_display": false
  }
 },
 "nbformat": 4,
 "nbformat_minor": 1
}
