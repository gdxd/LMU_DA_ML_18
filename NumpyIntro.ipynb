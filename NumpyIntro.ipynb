{
 "cells": [
  {
   "cell_type": "markdown",
   "metadata": {
    "toc": true
   },
   "source": [
    "<h1>Table of Contents<span class=\"tocSkip\"></span></h1>\n",
    "<div class=\"toc\"><ul class=\"toc-item\"><li><span><a href=\"#Numpy,-Scipy-and-Matplotlib\" data-toc-modified-id=\"Numpy,-Scipy-and-Matplotlib-1\"><span class=\"toc-item-num\">1&nbsp;&nbsp;</span>Numpy, Scipy and Matplotlib</a></span></li><li><span><a href=\"#NumPy\" data-toc-modified-id=\"NumPy-2\"><span class=\"toc-item-num\">2&nbsp;&nbsp;</span>NumPy</a></span><ul class=\"toc-item\"><li><span><a href=\"#Numpy-arrays\" data-toc-modified-id=\"Numpy-arrays-2.1\"><span class=\"toc-item-num\">2.1&nbsp;&nbsp;</span>Numpy arrays</a></span><ul class=\"toc-item\"><li><span><a href=\"#Memory-layout---Python-list-vs-numpy-ndarray\" data-toc-modified-id=\"Memory-layout---Python-list-vs-numpy-ndarray-2.1.1\"><span class=\"toc-item-num\">2.1.1&nbsp;&nbsp;</span>Memory layout - Python list vs numpy ndarray</a></span></li><li><span><a href=\"#Creating-arrays\" data-toc-modified-id=\"Creating-arrays-2.1.2\"><span class=\"toc-item-num\">2.1.2&nbsp;&nbsp;</span>Creating arrays</a></span></li></ul></li><li><span><a href=\"#Numpy-datatypes\" data-toc-modified-id=\"Numpy-datatypes-2.2\"><span class=\"toc-item-num\">2.2&nbsp;&nbsp;</span>Numpy datatypes</a></span></li><li><span><a href=\"#Working-with-numpy-arrays\" data-toc-modified-id=\"Working-with-numpy-arrays-2.3\"><span class=\"toc-item-num\">2.3&nbsp;&nbsp;</span>Working with numpy arrays</a></span><ul class=\"toc-item\"><li><span><a href=\"#numpy-ufuncs\" data-toc-modified-id=\"numpy-ufuncs-2.3.1\"><span class=\"toc-item-num\">2.3.1&nbsp;&nbsp;</span>numpy ufuncs</a></span></li></ul></li><li><span><a href=\"#Array-indexing-and-slicing\" data-toc-modified-id=\"Array-indexing-and-slicing-2.4\"><span class=\"toc-item-num\">2.4&nbsp;&nbsp;</span>Array indexing and slicing</a></span><ul class=\"toc-item\"><li><span><a href=\"#Array-filtering\" data-toc-modified-id=\"Array-filtering-2.4.1\"><span class=\"toc-item-num\">2.4.1&nbsp;&nbsp;</span>Array filtering</a></span></li><li><span><a href=\"#Array-IO\" data-toc-modified-id=\"Array-IO-2.4.2\"><span class=\"toc-item-num\">2.4.2&nbsp;&nbsp;</span>Array IO</a></span></li><li><span><a href=\"#Basic-statistics\" data-toc-modified-id=\"Basic-statistics-2.4.3\"><span class=\"toc-item-num\">2.4.3&nbsp;&nbsp;</span>Basic statistics</a></span></li></ul></li><li><span><a href=\"#Linear-Algebra\" data-toc-modified-id=\"Linear-Algebra-2.5\"><span class=\"toc-item-num\">2.5&nbsp;&nbsp;</span>Linear Algebra</a></span><ul class=\"toc-item\"><li><ul class=\"toc-item\"><li><span><a href=\"#Solving-system-of-equations\" data-toc-modified-id=\"Solving-system-of-equations-2.5.0.1\"><span class=\"toc-item-num\">2.5.0.1&nbsp;&nbsp;</span>Solving system of equations</a></span></li></ul></li><li><span><a href=\"#numpy---many-more-features\" data-toc-modified-id=\"numpy---many-more-features-2.5.1\"><span class=\"toc-item-num\">2.5.1&nbsp;&nbsp;</span>numpy - many more features</a></span></li></ul></li></ul></li></ul></div>"
   ]
  },
  {
   "cell_type": "markdown",
   "metadata": {},
   "source": [
    "# Numpy, Scipy and Matplotlib\n",
    "There are numerous scientific programs, packages and libraries written in various programming languages: \n",
    "\n",
    "*Mathematica, Maple, Matlab, Root, R, Numerical Recipes, etc*\n",
    "\n",
    "For python the de-facto standard are the \n",
    "*Numpy, Scipy and Matplotlib* packages.\n",
    "They allow to combine the ease and flexibility of Python programming\n",
    "with efficient and powerful libraries, which provide state-of-the art functionality and fast execution also for large applications. \n",
    "\n"
   ]
  },
  {
   "cell_type": "markdown",
   "metadata": {},
   "source": [
    "# NumPy\n",
    "\n",
    "Applications in Science and Physics often require very cpu-intensive operations, e.g:\n",
    "\n",
    "* large equation systems\n",
    "* matrices \n",
    "* numerical integration\n",
    "* fourier-transformation\n",
    "* random number generation\n",
    "* ...\n",
    "\n",
    "Rich legacy of numerical libraries written e.g. in \n",
    " Fortran or C/C++ (e.g. Numerical Recipes). \n",
    "This is also used with *numpy*, which offers an interface to BLAS (Basic Linear Algebra Library) and ATLAS (Automatically Tuned Linear Algebra Software).\n",
    "\n",
    "Moreover, *numpy* offers a very efficient Array-Datatype `ndarray` which provides a homogenous store for numerical data types and operations and functions for it. The backend is written in **`C`** and allows efficient vectorised or parallelized operations on large array structures.\n"
   ]
  },
  {
   "cell_type": "code",
   "execution_count": 2,
   "metadata": {},
   "outputs": [
    {
     "name": "stdout",
     "output_type": "stream",
     "text": [
      "1 loop, best of 3: 4.17 s per loop\n"
     ]
    }
   ],
   "source": [
    "%%timeit\n",
    "# std pythons lists\n",
    "a = range(10000000)\n",
    "b = range(10000000)\n",
    "c = []\n",
    "for i in range(len(a)):\n",
    "  c.append(a[i] + b[i])\n"
   ]
  },
  {
   "cell_type": "code",
   "execution_count": 3,
   "metadata": {},
   "outputs": [
    {
     "name": "stdout",
     "output_type": "stream",
     "text": [
      "10 loops, best of 3: 82.1 ms per loop\n"
     ]
    }
   ],
   "source": [
    "%%timeit\n",
    "# same with numpy\n",
    "import numpy as np\n",
    "a = np.arange(10000000)\n",
    "b = np.arange(10000000) \n",
    "c = a + b\n"
   ]
  },
  {
   "cell_type": "markdown",
   "metadata": {},
   "source": [
    "## Numpy arrays\n",
    "The basis of numpy is the **`ndarray`**, this is a homogenous array especially for numerical data types.\n",
    "* It supports many different kinds of integer, float and boolean data types\n",
    "* but homogenous, all elements in array of same type\n",
    "  * *(not quite true, elements can also be Python objects and thereby any Python type, but that's exceptional case)*\n",
    "* not just a list, it contains additional information on *shape* \n",
    "* many utility functions to reate, fill, store, extract, manipulate\n"
   ]
  },
  {
   "cell_type": "code",
   "execution_count": 11,
   "metadata": {},
   "outputs": [
    {
     "data": {
      "text/plain": [
       "[0, 1, 2, 3, 4, 5, 6, 7, 8, 9]"
      ]
     },
     "execution_count": 11,
     "metadata": {},
     "output_type": "execute_result"
    }
   ],
   "source": [
    "# std python list very flexible\n",
    "L = list(range(10)) # homogenous list\n",
    "L"
   ]
  },
  {
   "cell_type": "code",
   "execution_count": 12,
   "metadata": {},
   "outputs": [
    {
     "data": {
      "text/plain": [
       "[bool, str, float, int]"
      ]
     },
     "execution_count": 12,
     "metadata": {},
     "output_type": "execute_result"
    }
   ],
   "source": [
    "# but also arbitrary elements\n",
    "L3 = [True, \"2\", 3.0, 4]\n",
    "[type(item) for item in L3]"
   ]
  },
  {
   "cell_type": "code",
   "execution_count": 13,
   "metadata": {},
   "outputs": [
    {
     "data": {
      "text/plain": [
       "array([1, 4, 2, 5, 3])"
      ]
     },
     "execution_count": 13,
     "metadata": {},
     "output_type": "execute_result"
    }
   ],
   "source": [
    "# numpy array from python list\n",
    "np.array([1, 4, 2, 5, 3]) #  integer elements --> integer array"
   ]
  },
  {
   "cell_type": "code",
   "execution_count": 14,
   "metadata": {},
   "outputs": [
    {
     "data": {
      "text/plain": [
       "array([ 1. ,  4.2,  2. ,  5. ,  3. ])"
      ]
     },
     "execution_count": 14,
     "metadata": {},
     "output_type": "execute_result"
    }
   ],
   "source": [
    "# numpy array from python list\n",
    "np.array([1, 4.2, 2, 5, 3]) #  one float --> float array"
   ]
  },
  {
   "cell_type": "code",
   "execution_count": 17,
   "metadata": {},
   "outputs": [
    {
     "data": {
      "text/plain": [
       "array([ 1.,  4.,  2.,  5.,  3.], dtype=float32)"
      ]
     },
     "execution_count": 17,
     "metadata": {},
     "output_type": "execute_result"
    }
   ],
   "source": [
    "# can also enforce data type\n",
    "np.array([1, 4, 2, 5, 3],dtype='float32')"
   ]
  },
  {
   "cell_type": "markdown",
   "metadata": {},
   "source": [
    "### Memory layout - Python list vs numpy ndarray\n",
    "\n",
    "* A python list is actually only a list of **pointers/references** to the  actula objects\n",
    "  * very flexible, but also inefficient when accessing large arrays\n",
    "* in contrast, numpy ndarray contains directly all elements\n",
    "  * efficient to process but needs to have specific data type\n",
    "    \n"
   ]
  },
  {
   "cell_type": "markdown",
   "metadata": {},
   "source": [
    "![Array Memory Layout](figures/array_vs_list.png)"
   ]
  },
  {
   "cell_type": "markdown",
   "metadata": {},
   "source": [
    "### Creating arrays"
   ]
  },
  {
   "cell_type": "code",
   "execution_count": 18,
   "metadata": {},
   "outputs": [
    {
     "data": {
      "text/plain": [
       "array([0, 0, 0, 0, 0, 0, 0, 0, 0, 0])"
      ]
     },
     "execution_count": 18,
     "metadata": {},
     "output_type": "execute_result"
    }
   ],
   "source": [
    "# Create a length-10 integer array filled with zeros\n",
    "np.zeros(10, dtype=int)"
   ]
  },
  {
   "cell_type": "code",
   "execution_count": 19,
   "metadata": {},
   "outputs": [
    {
     "data": {
      "text/plain": [
       "array([[ 1.,  1.,  1.,  1.,  1.],\n",
       "       [ 1.,  1.,  1.,  1.,  1.],\n",
       "       [ 1.,  1.,  1.,  1.,  1.]])"
      ]
     },
     "execution_count": 19,
     "metadata": {},
     "output_type": "execute_result"
    }
   ],
   "source": [
    "# Create a 3x5 floating-point array filled with ones\n",
    "np.ones((3, 5), dtype=float)"
   ]
  },
  {
   "cell_type": "code",
   "execution_count": 20,
   "metadata": {},
   "outputs": [
    {
     "data": {
      "text/plain": [
       "array([ 0,  2,  4,  6,  8, 10, 12, 14, 16, 18])"
      ]
     },
     "execution_count": 20,
     "metadata": {},
     "output_type": "execute_result"
    }
   ],
   "source": [
    "# Create an array filled with a linear sequence\n",
    "# Starting at 0, ending at 20, stepping by 2\n",
    "# (this is similar to the built-in range() function)\n",
    "np.arange(0, 20, 2)"
   ]
  },
  {
   "cell_type": "code",
   "execution_count": 21,
   "metadata": {},
   "outputs": [
    {
     "data": {
      "text/plain": [
       "array([ 0.  ,  0.25,  0.5 ,  0.75,  1.  ])"
      ]
     },
     "execution_count": 21,
     "metadata": {},
     "output_type": "execute_result"
    }
   ],
   "source": [
    "# Create an array of five values evenly spaced between 0 and 1\n",
    "np.linspace(0, 1, 5)"
   ]
  },
  {
   "cell_type": "code",
   "execution_count": 27,
   "metadata": {},
   "outputs": [
    {
     "data": {
      "text/plain": [
       "array([  1.00000000e+00,   3.59381366e+00,   1.29154967e+01,\n",
       "         4.64158883e+01,   1.66810054e+02,   5.99484250e+02,\n",
       "         2.15443469e+03,   7.74263683e+03,   2.78255940e+04,\n",
       "         1.00000000e+05])"
      ]
     },
     "execution_count": 27,
     "metadata": {},
     "output_type": "execute_result"
    }
   ],
   "source": [
    "# Create an array of 10 values logarithmically spaced between 10**0 and 10**5\n",
    "np.logspace(0,5,10)"
   ]
  },
  {
   "cell_type": "code",
   "execution_count": 28,
   "metadata": {},
   "outputs": [
    {
     "data": {
      "text/plain": [
       "array([ 0.6265192 ,  0.45668818,  0.86940203,  0.35060164,  0.93258932])"
      ]
     },
     "execution_count": 28,
     "metadata": {},
     "output_type": "execute_result"
    }
   ],
   "source": [
    "# Create an array of 5 uniformly distributed\n",
    "# random values between 0 and 1\n",
    "np.random.random(5)"
   ]
  },
  {
   "cell_type": "code",
   "execution_count": 29,
   "metadata": {},
   "outputs": [
    {
     "data": {
      "text/plain": [
       "array([[ 0.40870482,  0.43140663,  0.8316238 ],\n",
       "       [ 0.5655511 ,  0.98869605,  0.50636745],\n",
       "       [ 0.81968604,  0.21121699,  0.16256727]])"
      ]
     },
     "execution_count": 29,
     "metadata": {},
     "output_type": "execute_result"
    }
   ],
   "source": [
    "# Create a 3x3 array of uniformly distributed\n",
    "# random values between 0 and 1\n",
    "np.random.random((3, 3))"
   ]
  },
  {
   "cell_type": "code",
   "execution_count": 35,
   "metadata": {},
   "outputs": [
    {
     "data": {
      "text/plain": [
       "array([ 0.58750019,  0.11248179,  0.63549725,  0.50253517, -0.57231355,\n",
       "        0.49357643,  0.41198692, -0.15094843,  0.52364019,  0.66422702])"
      ]
     },
     "execution_count": 35,
     "metadata": {},
     "output_type": "execute_result"
    }
   ],
   "source": [
    "# Create an array of 10 normal distributed\n",
    "# random values with mean 0 and std deviation 1\n",
    "np.random.normal(0,1,10)"
   ]
  },
  {
   "cell_type": "markdown",
   "metadata": {},
   "source": [
    "## Numpy datatypes\n",
    "In most cases Python/numpy automatically identifies suitable data-type, though sometimes it can be useful to explicitly specify the desired type.\n",
    "\n",
    "Here the list of supported types:\n",
    "\n",
    "\n",
    "| Data type\t    | Description |\n",
    "|---------------|-------------|\n",
    "| ``bool_``     | Boolean (True or False) stored as a byte |\n",
    "| ``int_``      | Default integer type (same as C ``long``; normally either ``int64`` or ``int32``)| \n",
    "| ``intc``      | Identical to C ``int`` (normally ``int32`` or ``int64``)| \n",
    "| ``intp``      | Integer used for indexing (same as C ``ssize_t``; normally either ``int32`` or ``int64``)| \n",
    "| ``int8``      | Byte (-128 to 127)| \n",
    "| ``int16``     | Integer (-32768 to 32767)|\n",
    "| ``int32``     | Integer (-2147483648 to 2147483647)|\n",
    "| ``int64``     | Integer (-9223372036854775808 to 9223372036854775807)| \n",
    "| ``uint8``     | Unsigned integer (0 to 255)| \n",
    "| ``uint16``    | Unsigned integer (0 to 65535)| \n",
    "| ``uint32``    | Unsigned integer (0 to 4294967295)| \n",
    "| ``uint64``    | Unsigned integer (0 to 18446744073709551615)| \n",
    "| ``float_``    | Shorthand for ``float64``.| \n",
    "| ``float16``   | Half precision float: sign bit, 5 bits exponent, 10 bits mantissa| \n",
    "| ``float32``   | Single precision float: sign bit, 8 bits exponent, 23 bits mantissa| \n",
    "| ``float64``   | Double precision float: sign bit, 11 bits exponent, 52 bits mantissa| \n",
    "| ``complex_``  | Shorthand for ``complex128``.| \n",
    "| ``complex64`` | Complex number, represented by two 32-bit floats| \n",
    "| ``complex128``| Complex number, represented by two 64-bit floats| "
   ]
  },
  {
   "cell_type": "code",
   "execution_count": 36,
   "metadata": {},
   "outputs": [
    {
     "data": {
      "text/plain": [
       "dtype('float64')"
      ]
     },
     "execution_count": 36,
     "metadata": {},
     "output_type": "execute_result"
    }
   ],
   "source": [
    "a=np.random.normal(0,1,10)\n",
    "a.dtype   # data type available as field in ndarray"
   ]
  },
  {
   "cell_type": "markdown",
   "metadata": {},
   "source": [
    "## Working with numpy arrays\n"
   ]
  },
  {
   "cell_type": "code",
   "execution_count": 37,
   "metadata": {},
   "outputs": [
    {
     "name": "stdout",
     "output_type": "stream",
     "text": [
      "[[ 1  2  3  4]\n",
      " [ 4  5  6  7]\n",
      " [ 9 10 11 12]]\n"
     ]
    }
   ],
   "source": [
    "a=np.array([[1,2,3,4],[4,5,6,7],[9,10,11,12]]) \n",
    "print(a)"
   ]
  },
  {
   "cell_type": "code",
   "execution_count": null,
   "metadata": {},
   "outputs": [],
   "source": [
    "# many fields and functions in ndarray\n",
    "[m for m in dir(a) if not m.startswith('__')]"
   ]
  },
  {
   "cell_type": "code",
   "execution_count": 39,
   "metadata": {},
   "outputs": [
    {
     "data": {
      "text/plain": [
       "(3, 4)"
      ]
     },
     "execution_count": 39,
     "metadata": {},
     "output_type": "execute_result"
    }
   ],
   "source": [
    "a.shape # layout stored in shape"
   ]
  },
  {
   "cell_type": "code",
   "execution_count": 42,
   "metadata": {},
   "outputs": [],
   "source": [
    "b=a.reshape(2,6) # can be changed"
   ]
  },
  {
   "cell_type": "code",
   "execution_count": 44,
   "metadata": {},
   "outputs": [
    {
     "name": "stdout",
     "output_type": "stream",
     "text": [
      "(3, 4)\n",
      "(2, 6)\n"
     ]
    }
   ],
   "source": [
    "print(a.shape) # original unchanged\n",
    "print(b.shape) "
   ]
  },
  {
   "cell_type": "code",
   "execution_count": 45,
   "metadata": {},
   "outputs": [
    {
     "data": {
      "text/plain": [
       "array([[ 1,  4,  9],\n",
       "       [ 2,  5, 10],\n",
       "       [ 3,  6, 11],\n",
       "       [ 4,  7, 12]])"
      ]
     },
     "execution_count": 45,
     "metadata": {},
     "output_type": "execute_result"
    }
   ],
   "source": [
    "a.T # transpose"
   ]
  },
  {
   "cell_type": "code",
   "execution_count": 46,
   "metadata": {},
   "outputs": [
    {
     "data": {
      "text/plain": [
       "array([[ -1,  -2,  -3,  -4],\n",
       "       [ -4,  -5,  -6,  -7],\n",
       "       [ -9, -10, -11, -12]])"
      ]
     },
     "execution_count": 46,
     "metadata": {},
     "output_type": "execute_result"
    }
   ],
   "source": [
    "-1*a # multiply with scalar"
   ]
  },
  {
   "cell_type": "code",
   "execution_count": 48,
   "metadata": {},
   "outputs": [
    {
     "data": {
      "text/plain": [
       "array([[  3.1,   4.1,   5.1,   6.1],\n",
       "       [  6.1,   7.1,   8.1,   9.1],\n",
       "       [ 11.1,  12.1,  13.1,  14.1]])"
      ]
     },
     "execution_count": 48,
     "metadata": {},
     "output_type": "execute_result"
    }
   ],
   "source": [
    "a+2.1 # add scalar"
   ]
  },
  {
   "cell_type": "code",
   "execution_count": 50,
   "metadata": {},
   "outputs": [
    {
     "data": {
      "text/plain": [
       "array([[ 2,  4,  6,  8],\n",
       "       [ 8, 10, 12, 14],\n",
       "       [18, 20, 22, 24]])"
      ]
     },
     "execution_count": 50,
     "metadata": {},
     "output_type": "execute_result"
    }
   ],
   "source": [
    "a+a # adding arrays element-by-element"
   ]
  },
  {
   "cell_type": "code",
   "execution_count": null,
   "metadata": {},
   "outputs": [],
   "source": [
    "a+b # error - requires same shape"
   ]
  },
  {
   "cell_type": "code",
   "execution_count": 52,
   "metadata": {},
   "outputs": [
    {
     "data": {
      "text/plain": [
       "array([[  1,   4,   9,  16],\n",
       "       [ 16,  25,  36,  49],\n",
       "       [ 81, 100, 121, 144]])"
      ]
     },
     "execution_count": 52,
     "metadata": {},
     "output_type": "execute_result"
    }
   ],
   "source": [
    "a*a # multiplying array element-by-element"
   ]
  },
  {
   "cell_type": "code",
   "execution_count": null,
   "metadata": {},
   "outputs": [],
   "source": [
    "a.dot(a) # matrix multiplication -- error aligned shapes required"
   ]
  },
  {
   "cell_type": "code",
   "execution_count": 54,
   "metadata": {},
   "outputs": [
    {
     "data": {
      "text/plain": [
       "array([[ 67,  75,  88],\n",
       "       [130, 147, 175],\n",
       "       [235, 267, 320]])"
      ]
     },
     "execution_count": 54,
     "metadata": {},
     "output_type": "execute_result"
    }
   ],
   "source": [
    "a.dot(a.reshape(4,3)) # matrix multiplication: 3x4 times 4x3 works ok"
   ]
  },
  {
   "cell_type": "code",
   "execution_count": 67,
   "metadata": {},
   "outputs": [
    {
     "name": "stdout",
     "output_type": "stream",
     "text": [
      "[4 5 6 7] (4,)\n"
     ]
    }
   ],
   "source": [
    "c=np.arange(4,8)\n",
    "print(c, c.shape)"
   ]
  },
  {
   "cell_type": "code",
   "execution_count": 65,
   "metadata": {},
   "outputs": [
    {
     "data": {
      "text/plain": [
       "array([ 60, 126, 236])"
      ]
     },
     "execution_count": 65,
     "metadata": {},
     "output_type": "execute_result"
    }
   ],
   "source": [
    "a.dot(c) # 3x4 matrix times 4-vec ok"
   ]
  },
  {
   "cell_type": "markdown",
   "metadata": {},
   "source": [
    "### numpy ufuncs\n"
   ]
  },
  {
   "cell_type": "code",
   "execution_count": 69,
   "metadata": {},
   "outputs": [
    {
     "data": {
      "text/plain": [
       "array([[ 1.        ,  1.41421356,  1.73205081,  2.        ],\n",
       "       [ 2.        ,  2.23606798,  2.44948974,  2.64575131],\n",
       "       [ 3.        ,  3.16227766,  3.31662479,  3.46410162]])"
      ]
     },
     "execution_count": 69,
     "metadata": {},
     "output_type": "execute_result"
    }
   ],
   "source": [
    "np.sqrt(a) # can apply std maths functions"
   ]
  },
  {
   "cell_type": "code",
   "execution_count": 70,
   "metadata": {},
   "outputs": [
    {
     "data": {
      "text/plain": [
       "array([[ 1.        ,  1.41421356,  1.73205081,  2.        ],\n",
       "       [ 2.        ,  2.23606798,  2.44948974,  2.64575131],\n",
       "       [ 3.        ,  3.16227766,  3.31662479,  3.46410162]])"
      ]
     },
     "execution_count": 70,
     "metadata": {},
     "output_type": "execute_result"
    }
   ],
   "source": [
    "a**0.5 # and operators"
   ]
  },
  {
   "cell_type": "code",
   "execution_count": 71,
   "metadata": {},
   "outputs": [
    {
     "data": {
      "text/plain": [
       "array([[ 0.84147098,  0.90929743,  0.14112001, -0.7568025 ],\n",
       "       [-0.7568025 , -0.95892427, -0.2794155 ,  0.6569866 ],\n",
       "       [ 0.41211849, -0.54402111, -0.99999021, -0.53657292]])"
      ]
     },
     "execution_count": 71,
     "metadata": {},
     "output_type": "execute_result"
    }
   ],
   "source": [
    "np.sin(a)"
   ]
  },
  {
   "cell_type": "markdown",
   "metadata": {},
   "source": [
    "See here for detailed list of Numpy functions: \n",
    "http://wiki.scipy.org/Numpy_Example_List"
   ]
  },
  {
   "cell_type": "markdown",
   "metadata": {},
   "source": [
    "## Array indexing and slicing\n",
    "As for Python lists there are many sophisticated ways how to access or extract elements or sub-arrays"
   ]
  },
  {
   "cell_type": "code",
   "execution_count": 72,
   "metadata": {},
   "outputs": [
    {
     "data": {
      "text/plain": [
       "array([[ 1,  2,  3,  4],\n",
       "       [ 4,  5,  6,  7],\n",
       "       [ 9, 10, 11, 12]])"
      ]
     },
     "execution_count": 72,
     "metadata": {},
     "output_type": "execute_result"
    }
   ],
   "source": [
    "a=np.array([[1,2,3,4],[4,5,6,7],[9,10,11,12]])\n",
    "a"
   ]
  },
  {
   "cell_type": "code",
   "execution_count": 73,
   "metadata": {},
   "outputs": [
    {
     "data": {
      "text/plain": [
       "6"
      ]
     },
     "execution_count": 73,
     "metadata": {},
     "output_type": "execute_result"
    }
   ],
   "source": [
    "a[1,2] # 2nd line, 3rd colun (index starts at 0)"
   ]
  },
  {
   "cell_type": "code",
   "execution_count": 74,
   "metadata": {},
   "outputs": [
    {
     "data": {
      "text/plain": [
       "array([4, 5, 6, 7])"
      ]
     },
     "execution_count": 74,
     "metadata": {},
     "output_type": "execute_result"
    }
   ],
   "source": [
    "a[1] # 2nd line"
   ]
  },
  {
   "cell_type": "code",
   "execution_count": 75,
   "metadata": {},
   "outputs": [
    {
     "data": {
      "text/plain": [
       "array([ 9, 10, 11, 12])"
      ]
     },
     "execution_count": 75,
     "metadata": {},
     "output_type": "execute_result"
    }
   ],
   "source": [
    "a[-1] #  last line"
   ]
  },
  {
   "cell_type": "code",
   "execution_count": 76,
   "metadata": {},
   "outputs": [
    {
     "data": {
      "text/plain": [
       "array([[1, 2, 3, 4],\n",
       "       [4, 5, 6, 7]])"
      ]
     },
     "execution_count": 76,
     "metadata": {},
     "output_type": "execute_result"
    }
   ],
   "source": [
    "a[:2] # 1st and 2nd line"
   ]
  },
  {
   "cell_type": "code",
   "execution_count": 78,
   "metadata": {},
   "outputs": [
    {
     "data": {
      "text/plain": [
       "array([ 3,  6, 11])"
      ]
     },
     "execution_count": 78,
     "metadata": {},
     "output_type": "execute_result"
    }
   ],
   "source": [
    "a[:,2] # 3rd column"
   ]
  },
  {
   "cell_type": "code",
   "execution_count": 79,
   "metadata": {},
   "outputs": [
    {
     "data": {
      "text/plain": [
       "array([[2, 3],\n",
       "       [5, 6]])"
      ]
     },
     "execution_count": 79,
     "metadata": {},
     "output_type": "execute_result"
    }
   ],
   "source": [
    "a[:2,1:3] # ..."
   ]
  },
  {
   "cell_type": "markdown",
   "metadata": {},
   "source": [
    "### Array filtering"
   ]
  },
  {
   "cell_type": "code",
   "execution_count": 80,
   "metadata": {
    "collapsed": true
   },
   "outputs": [],
   "source": [
    "a=np.array(range(100))"
   ]
  },
  {
   "cell_type": "code",
   "execution_count": 81,
   "metadata": {},
   "outputs": [
    {
     "data": {
      "text/plain": [
       "(array([51, 52, 53, 54, 55, 56, 57, 58, 59, 60, 61, 62, 63, 64, 65, 66, 67,\n",
       "        68, 69, 70, 71, 72, 73, 74, 75, 76, 77, 78, 79, 80, 81, 82, 83, 84,\n",
       "        85, 86, 87, 88, 89, 90, 91, 92, 93, 94, 95, 96, 97, 98, 99]),)"
      ]
     },
     "execution_count": 81,
     "metadata": {},
     "output_type": "execute_result"
    }
   ],
   "source": [
    "np.where(a>50)"
   ]
  },
  {
   "cell_type": "code",
   "execution_count": 82,
   "metadata": {},
   "outputs": [
    {
     "data": {
      "text/plain": [
       "array([False, False, False, False, False, False, False, False, False,\n",
       "       False, False, False, False, False, False, False, False, False,\n",
       "       False, False, False, False, False, False, False, False, False,\n",
       "       False, False, False, False, False, False, False, False, False,\n",
       "       False, False, False, False, False, False, False, False, False,\n",
       "       False, False, False, False, False, False, False, False, False,\n",
       "       False, False, False, False, False, False, False, False, False,\n",
       "       False, False, False, False, False, False, False, False, False,\n",
       "       False, False, False, False, False, False, False, False, False,\n",
       "        True,  True,  True,  True,  True,  True,  True,  True,  True,\n",
       "        True,  True,  True,  True,  True,  True,  True,  True,  True,  True], dtype=bool)"
      ]
     },
     "execution_count": 82,
     "metadata": {},
     "output_type": "execute_result"
    }
   ],
   "source": [
    "a>80 # returns boolean array if elements fullfill criteria"
   ]
  },
  {
   "cell_type": "code",
   "execution_count": 83,
   "metadata": {},
   "outputs": [
    {
     "data": {
      "text/plain": [
       "array([81, 82, 83, 84, 85, 86, 87, 88, 89, 90, 91, 92, 93, 94, 95, 96, 97,\n",
       "       98, 99])"
      ]
     },
     "execution_count": 83,
     "metadata": {},
     "output_type": "execute_result"
    }
   ],
   "source": [
    "a[a>80] # sub-array fullfilling criteria"
   ]
  },
  {
   "cell_type": "markdown",
   "metadata": {},
   "source": [
    "### Array IO"
   ]
  },
  {
   "cell_type": "code",
   "execution_count": 88,
   "metadata": {},
   "outputs": [
    {
     "data": {
      "text/plain": [
       "(100,)"
      ]
     },
     "execution_count": 88,
     "metadata": {},
     "output_type": "execute_result"
    }
   ],
   "source": [
    "data = np.loadtxt('numbers.dat') # reads numbers from text file and stores in numpy array\n",
    "data.shape"
   ]
  },
  {
   "cell_type": "code",
   "execution_count": 91,
   "metadata": {},
   "outputs": [
    {
     "name": "stdout",
     "output_type": "stream",
     "text": [
      "a= [[1 2 3]\n",
      " [4 5 6]\n",
      " [7 8 9]]\n",
      "b= [1 2 3 4 5 6 7 8 9]\n"
     ]
    }
   ],
   "source": [
    "a=np.array(np.arange(1,10).reshape(3,3))\n",
    "print('a=',a)\n",
    "\n",
    "a.tofile('a.data')\n",
    "b=np.fromfile('a.data', dtype=int) # watch out, shape info lost\n",
    "print('b=',b)\n"
   ]
  },
  {
   "cell_type": "markdown",
   "metadata": {},
   "source": [
    "### Basic statistics\n"
   ]
  },
  {
   "cell_type": "code",
   "execution_count": 94,
   "metadata": {},
   "outputs": [
    {
     "name": "stdout",
     "output_type": "stream",
     "text": [
      "3.125 1.21732288239 1.481875\n"
     ]
    }
   ],
   "source": [
    "T=np.array([1.3,4.5,2.8,3.9])\n",
    "print (T.mean(), T.std(), T.var()) # Mean, std deviation, Variance"
   ]
  },
  {
   "cell_type": "code",
   "execution_count": 97,
   "metadata": {},
   "outputs": [
    {
     "name": "stdout",
     "output_type": "stream",
     "text": [
      "9.8400479504 2.15189813123 4.63066556721\n"
     ]
    }
   ],
   "source": [
    "T=np.random.normal(10.,2.,1000) # 1000 normal distributed random numbers, mean 10, std 2\n",
    "print (T.mean(), T.std(), T.var())"
   ]
  },
  {
   "cell_type": "code",
   "execution_count": 98,
   "metadata": {},
   "outputs": [
    {
     "name": "stdout",
     "output_type": "stream",
     "text": [
      "[[ 1.          0.98062258]\n",
      " [ 0.98062258  1.        ]]\n"
     ]
    }
   ],
   "source": [
    "# correlation\n",
    "T=np.array([1.3,4.5,2.8,3.9])\n",
    "P=np.array([2.7,8.7,4.7,8.2])\n",
    "print (np.corrcoef([T,P]))"
   ]
  },
  {
   "cell_type": "markdown",
   "metadata": {},
   "source": [
    "## Linear Algebra"
   ]
  },
  {
   "cell_type": "code",
   "execution_count": 99,
   "metadata": {},
   "outputs": [
    {
     "name": "stdout",
     "output_type": "stream",
     "text": [
      "[[ 0  1  2  3]\n",
      " [ 4  5  6  7]\n",
      " [ 8  9 10 11]]\n"
     ]
    }
   ],
   "source": [
    "a=np.arange(12).reshape(3,4)\n",
    "print(a)"
   ]
  },
  {
   "cell_type": "code",
   "execution_count": 100,
   "metadata": {},
   "outputs": [
    {
     "data": {
      "text/plain": [
       "array([ 0,  5, 10])"
      ]
     },
     "execution_count": 100,
     "metadata": {},
     "output_type": "execute_result"
    }
   ],
   "source": [
    "a.diagonal() # Diagonalwerte"
   ]
  },
  {
   "cell_type": "code",
   "execution_count": 102,
   "metadata": {},
   "outputs": [
    {
     "name": "stdout",
     "output_type": "stream",
     "text": [
      "[ 1.  1.  1.]\n",
      "[ 0.  0.  0.]\n",
      "[[ 1.  0.  0.]\n",
      " [ 0.  1.  0.]\n",
      " [ 0.  0.  1.]]\n"
     ]
    }
   ],
   "source": [
    "# standard matrices\n",
    "print(np.ones(3))\n",
    "print(np.zeros(3))\n",
    "print(np.eye(3))"
   ]
  },
  {
   "cell_type": "markdown",
   "metadata": {},
   "source": [
    "#### Solving system of equations"
   ]
  },
  {
   "cell_type": "code",
   "execution_count": 103,
   "metadata": {},
   "outputs": [
    {
     "name": "stdout",
     "output_type": "stream",
     "text": [
      "[[3 1 5]\n",
      " [1 0 8]\n",
      " [2 1 4]]\n",
      "[[ 1.14285714 -0.14285714 -1.14285714]\n",
      " [-1.71428571 -0.28571429  2.71428571]\n",
      " [-0.14285714  0.14285714  0.14285714]]\n"
     ]
    },
    {
     "data": {
      "text/plain": [
       "array([[  1.00000000e+00,   5.55111512e-17,   2.77555756e-16],\n",
       "       [ -2.22044605e-16,   1.00000000e+00,   2.22044605e-16],\n",
       "       [ -2.22044605e-16,   0.00000000e+00,   1.00000000e+00]])"
      ]
     },
     "execution_count": 103,
     "metadata": {},
     "output_type": "execute_result"
    }
   ],
   "source": [
    "from numpy.linalg import inv\n",
    "a=np.array([[3,1,5],[1,0,8],[2,1,4]])\n",
    "inva=inv(a) # matrix inversion\n",
    "print(a)\n",
    "print(inva)\n",
    "np.dot(a,inva) # should give unity matrix"
   ]
  },
  {
   "cell_type": "code",
   "execution_count": 104,
   "metadata": {},
   "outputs": [
    {
     "name": "stdout",
     "output_type": "stream",
     "text": [
      "[[3 1 5]\n",
      " [1 0 8]\n",
      " [2 1 4]]\n",
      "[-3.28571429  9.42857143  1.28571429]\n"
     ]
    },
    {
     "data": {
      "text/plain": [
       "array([ 6.,  7.,  8.])"
      ]
     },
     "execution_count": 104,
     "metadata": {},
     "output_type": "execute_result"
    }
   ],
   "source": [
    "from numpy.linalg import solve\n",
    "print(a)\n",
    "b=np.array([6,7,8])\n",
    "x=solve(a,b) # solve equation a*x = b\n",
    "print(x)\n",
    "np.dot(a,x) # test: should give b\n"
   ]
  },
  {
   "cell_type": "markdown",
   "metadata": {},
   "source": [
    "### numpy - many more features\n",
    "* advanced Linalg tools \n",
    "* numerical methods, ..."
   ]
  },
  {
   "cell_type": "code",
   "execution_count": null,
   "metadata": {
    "collapsed": true
   },
   "outputs": [],
   "source": []
  }
 ],
 "metadata": {
  "anaconda-cloud": {},
  "kernelspec": {
   "display_name": "Python [Root]",
   "language": "python",
   "name": "Python [Root]"
  },
  "language_info": {
   "codemirror_mode": {
    "name": "ipython",
    "version": 3
   },
   "file_extension": ".py",
   "mimetype": "text/x-python",
   "name": "python",
   "nbconvert_exporter": "python",
   "pygments_lexer": "ipython3",
   "version": "3.5.5"
  },
  "toc": {
   "nav_menu": {},
   "number_sections": true,
   "sideBar": true,
   "skip_h1_title": false,
   "title_cell": "Table of Contents",
   "title_sidebar": "Contents",
   "toc_cell": true,
   "toc_position": {},
   "toc_section_display": true,
   "toc_window_display": false
  }
 },
 "nbformat": 4,
 "nbformat_minor": 1
}
